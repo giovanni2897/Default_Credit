{
 "cells": [
  {
   "cell_type": "code",
   "execution_count": 1,
   "metadata": {},
   "outputs": [
    {
     "name": "stdout",
     "output_type": "stream",
     "text": [
      "Requirement already satisfied: feature_engine in /opt/anaconda3/lib/python3.8/site-packages (1.1.2)\n",
      "Requirement already satisfied: scikit-learn>=0.22.2 in /opt/anaconda3/lib/python3.8/site-packages (from feature_engine) (0.23.2)\n",
      "Requirement already satisfied: pandas>=1.0.3 in /opt/anaconda3/lib/python3.8/site-packages (from feature_engine) (1.1.3)\n",
      "Requirement already satisfied: scipy>=1.4.1 in /opt/anaconda3/lib/python3.8/site-packages (from feature_engine) (1.5.2)\n",
      "Requirement already satisfied: statsmodels>=0.11.1 in /opt/anaconda3/lib/python3.8/site-packages (from feature_engine) (0.12.0)\n",
      "Requirement already satisfied: numpy>=1.18.2 in /opt/anaconda3/lib/python3.8/site-packages (from feature_engine) (1.19.2)\n",
      "Requirement already satisfied: joblib>=0.11 in /opt/anaconda3/lib/python3.8/site-packages (from scikit-learn>=0.22.2->feature_engine) (0.17.0)\n",
      "Requirement already satisfied: threadpoolctl>=2.0.0 in /opt/anaconda3/lib/python3.8/site-packages (from scikit-learn>=0.22.2->feature_engine) (2.1.0)\n",
      "Requirement already satisfied: python-dateutil>=2.7.3 in /opt/anaconda3/lib/python3.8/site-packages (from pandas>=1.0.3->feature_engine) (2.8.1)\n",
      "Requirement already satisfied: pytz>=2017.2 in /opt/anaconda3/lib/python3.8/site-packages (from pandas>=1.0.3->feature_engine) (2020.1)\n",
      "Requirement already satisfied: patsy>=0.5 in /opt/anaconda3/lib/python3.8/site-packages (from statsmodels>=0.11.1->feature_engine) (0.5.1)\n",
      "Requirement already satisfied: six>=1.5 in /opt/anaconda3/lib/python3.8/site-packages (from python-dateutil>=2.7.3->pandas>=1.0.3->feature_engine) (1.15.0)\n"
     ]
    }
   ],
   "source": [
    "import pandas as pd\n",
    "import numpy as np\n",
    "import seaborn as sns\n",
    "import matplotlib.pyplot as plt\n",
    "import plotly.express as px\n",
    "!pip install feature_engine"
   ]
  },
  {
   "cell_type": "code",
   "execution_count": 2,
   "metadata": {},
   "outputs": [
    {
     "data": {
      "text/html": [
       "<div>\n",
       "<style scoped>\n",
       "    .dataframe tbody tr th:only-of-type {\n",
       "        vertical-align: middle;\n",
       "    }\n",
       "\n",
       "    .dataframe tbody tr th {\n",
       "        vertical-align: top;\n",
       "    }\n",
       "\n",
       "    .dataframe thead th {\n",
       "        text-align: right;\n",
       "    }\n",
       "</style>\n",
       "<table border=\"1\" class=\"dataframe\">\n",
       "  <thead>\n",
       "    <tr style=\"text-align: right;\">\n",
       "      <th></th>\n",
       "      <th>X</th>\n",
       "      <th>number_of_cards</th>\n",
       "      <th>outstanding</th>\n",
       "      <th>credit_limit</th>\n",
       "      <th>bill</th>\n",
       "      <th>total_cash_usage</th>\n",
       "      <th>total_retail_usage</th>\n",
       "      <th>remaining_bill</th>\n",
       "      <th>branch_code</th>\n",
       "      <th>payment_ratio</th>\n",
       "      <th>overlimit_percentage</th>\n",
       "      <th>payment_ratio_3month</th>\n",
       "      <th>payment_ratio_6month</th>\n",
       "      <th>delinquency_score</th>\n",
       "      <th>default_flag</th>\n",
       "      <th>years_since_card_issuing</th>\n",
       "      <th>total_usage</th>\n",
       "      <th>remaining_bill_per_number_of_cards</th>\n",
       "      <th>remaining_bill_per_limit</th>\n",
       "      <th>total_usage_per_limit</th>\n",
       "      <th>total_3mo_usage_per_limit</th>\n",
       "      <th>total_6mo_usage_per_limit</th>\n",
       "      <th>utilization_3month</th>\n",
       "      <th>utilization_6month</th>\n",
       "    </tr>\n",
       "  </thead>\n",
       "  <tbody>\n",
       "    <tr>\n",
       "      <th>0</th>\n",
       "      <td>2</td>\n",
       "      <td>2</td>\n",
       "      <td>268691</td>\n",
       "      <td>10000000.0</td>\n",
       "      <td>254564.0</td>\n",
       "      <td>0.0</td>\n",
       "      <td>1012.0</td>\n",
       "      <td>0.0</td>\n",
       "      <td>A</td>\n",
       "      <td>0.00</td>\n",
       "      <td>0.0</td>\n",
       "      <td>0.00</td>\n",
       "      <td>0.00</td>\n",
       "      <td>NaN</td>\n",
       "      <td>0</td>\n",
       "      <td>0.750000</td>\n",
       "      <td>1012.0</td>\n",
       "      <td>0.00</td>\n",
       "      <td>0.000000</td>\n",
       "      <td>0.000101</td>\n",
       "      <td>0.000000</td>\n",
       "      <td>0.000000</td>\n",
       "      <td>0.004232</td>\n",
       "      <td>0.000300</td>\n",
       "    </tr>\n",
       "    <tr>\n",
       "      <th>1</th>\n",
       "      <td>3</td>\n",
       "      <td>3</td>\n",
       "      <td>6769149</td>\n",
       "      <td>28000000.0</td>\n",
       "      <td>4159779.0</td>\n",
       "      <td>0.0</td>\n",
       "      <td>0.0</td>\n",
       "      <td>0.0</td>\n",
       "      <td>A</td>\n",
       "      <td>100.00</td>\n",
       "      <td>0.0</td>\n",
       "      <td>100.00</td>\n",
       "      <td>100.91</td>\n",
       "      <td>NaN</td>\n",
       "      <td>0</td>\n",
       "      <td>10.750000</td>\n",
       "      <td>0.0</td>\n",
       "      <td>0.00</td>\n",
       "      <td>0.000000</td>\n",
       "      <td>0.000000</td>\n",
       "      <td>0.040518</td>\n",
       "      <td>0.047703</td>\n",
       "      <td>0.249389</td>\n",
       "      <td>NaN</td>\n",
       "    </tr>\n",
       "    <tr>\n",
       "      <th>2</th>\n",
       "      <td>5</td>\n",
       "      <td>2</td>\n",
       "      <td>9402085</td>\n",
       "      <td>10000000.0</td>\n",
       "      <td>6099283.0</td>\n",
       "      <td>0.0</td>\n",
       "      <td>2666558.0</td>\n",
       "      <td>5951865.0</td>\n",
       "      <td>A</td>\n",
       "      <td>95.99</td>\n",
       "      <td>0.0</td>\n",
       "      <td>97.49</td>\n",
       "      <td>99.84</td>\n",
       "      <td>NaN</td>\n",
       "      <td>0</td>\n",
       "      <td>1.666667</td>\n",
       "      <td>2666558.0</td>\n",
       "      <td>2975932.50</td>\n",
       "      <td>0.595186</td>\n",
       "      <td>0.266656</td>\n",
       "      <td>0.323027</td>\n",
       "      <td>0.131162</td>\n",
       "      <td>0.707865</td>\n",
       "      <td>0.336571</td>\n",
       "    </tr>\n",
       "    <tr>\n",
       "      <th>3</th>\n",
       "      <td>6</td>\n",
       "      <td>2</td>\n",
       "      <td>6227439</td>\n",
       "      <td>80000000.0</td>\n",
       "      <td>2081248.0</td>\n",
       "      <td>0.0</td>\n",
       "      <td>3690250.0</td>\n",
       "      <td>4613435.0</td>\n",
       "      <td>A</td>\n",
       "      <td>0.00</td>\n",
       "      <td>0.0</td>\n",
       "      <td>28.46</td>\n",
       "      <td>42.03</td>\n",
       "      <td>NaN</td>\n",
       "      <td>0</td>\n",
       "      <td>10.250000</td>\n",
       "      <td>3690250.0</td>\n",
       "      <td>2306717.50</td>\n",
       "      <td>0.057668</td>\n",
       "      <td>0.046128</td>\n",
       "      <td>0.017184</td>\n",
       "      <td>0.117513</td>\n",
       "      <td>0.038964</td>\n",
       "      <td>0.181863</td>\n",
       "    </tr>\n",
       "    <tr>\n",
       "      <th>4</th>\n",
       "      <td>7</td>\n",
       "      <td>2</td>\n",
       "      <td>3906290</td>\n",
       "      <td>4000000.0</td>\n",
       "      <td>2043682.0</td>\n",
       "      <td>0.0</td>\n",
       "      <td>230400.0</td>\n",
       "      <td>3314046.0</td>\n",
       "      <td>A</td>\n",
       "      <td>18.47</td>\n",
       "      <td>0.0</td>\n",
       "      <td>24.95</td>\n",
       "      <td>17.89</td>\n",
       "      <td>NaN</td>\n",
       "      <td>0</td>\n",
       "      <td>4.666667</td>\n",
       "      <td>230400.0</td>\n",
       "      <td>1657023.00</td>\n",
       "      <td>0.828511</td>\n",
       "      <td>0.057600</td>\n",
       "      <td>0.018750</td>\n",
       "      <td>0.166667</td>\n",
       "      <td>1.014776</td>\n",
       "      <td>0.977231</td>\n",
       "    </tr>\n",
       "    <tr>\n",
       "      <th>5</th>\n",
       "      <td>8</td>\n",
       "      <td>4</td>\n",
       "      <td>9534837</td>\n",
       "      <td>20000000.0</td>\n",
       "      <td>3692028.0</td>\n",
       "      <td>0.0</td>\n",
       "      <td>9327612.0</td>\n",
       "      <td>7881069.0</td>\n",
       "      <td>A</td>\n",
       "      <td>58.55</td>\n",
       "      <td>0.0</td>\n",
       "      <td>105.24</td>\n",
       "      <td>166.67</td>\n",
       "      <td>NaN</td>\n",
       "      <td>0</td>\n",
       "      <td>0.750000</td>\n",
       "      <td>9327612.0</td>\n",
       "      <td>1970267.25</td>\n",
       "      <td>0.394053</td>\n",
       "      <td>0.466381</td>\n",
       "      <td>0.239289</td>\n",
       "      <td>0.241599</td>\n",
       "      <td>0.261753</td>\n",
       "      <td>0.224026</td>\n",
       "    </tr>\n",
       "    <tr>\n",
       "      <th>6</th>\n",
       "      <td>10</td>\n",
       "      <td>4</td>\n",
       "      <td>1818606</td>\n",
       "      <td>7000000.0</td>\n",
       "      <td>1765911.0</td>\n",
       "      <td>0.0</td>\n",
       "      <td>0.0</td>\n",
       "      <td>1627786.0</td>\n",
       "      <td>A</td>\n",
       "      <td>100.00</td>\n",
       "      <td>0.0</td>\n",
       "      <td>58.40</td>\n",
       "      <td>62.68</td>\n",
       "      <td>NaN</td>\n",
       "      <td>0</td>\n",
       "      <td>8.500000</td>\n",
       "      <td>0.0</td>\n",
       "      <td>406946.50</td>\n",
       "      <td>0.232541</td>\n",
       "      <td>0.000000</td>\n",
       "      <td>0.075000</td>\n",
       "      <td>0.094801</td>\n",
       "      <td>0.315145</td>\n",
       "      <td>NaN</td>\n",
       "    </tr>\n",
       "  </tbody>\n",
       "</table>\n",
       "</div>"
      ],
      "text/plain": [
       "    X  number_of_cards  outstanding  credit_limit       bill  \\\n",
       "0   2                2       268691    10000000.0   254564.0   \n",
       "1   3                3      6769149    28000000.0  4159779.0   \n",
       "2   5                2      9402085    10000000.0  6099283.0   \n",
       "3   6                2      6227439    80000000.0  2081248.0   \n",
       "4   7                2      3906290     4000000.0  2043682.0   \n",
       "5   8                4      9534837    20000000.0  3692028.0   \n",
       "6  10                4      1818606     7000000.0  1765911.0   \n",
       "\n",
       "   total_cash_usage  total_retail_usage  remaining_bill branch_code  \\\n",
       "0               0.0              1012.0             0.0           A   \n",
       "1               0.0                 0.0             0.0           A   \n",
       "2               0.0           2666558.0       5951865.0           A   \n",
       "3               0.0           3690250.0       4613435.0           A   \n",
       "4               0.0            230400.0       3314046.0           A   \n",
       "5               0.0           9327612.0       7881069.0           A   \n",
       "6               0.0                 0.0       1627786.0           A   \n",
       "\n",
       "   payment_ratio  overlimit_percentage  payment_ratio_3month  \\\n",
       "0           0.00                   0.0                  0.00   \n",
       "1         100.00                   0.0                100.00   \n",
       "2          95.99                   0.0                 97.49   \n",
       "3           0.00                   0.0                 28.46   \n",
       "4          18.47                   0.0                 24.95   \n",
       "5          58.55                   0.0                105.24   \n",
       "6         100.00                   0.0                 58.40   \n",
       "\n",
       "   payment_ratio_6month  delinquency_score  default_flag  \\\n",
       "0                  0.00                NaN             0   \n",
       "1                100.91                NaN             0   \n",
       "2                 99.84                NaN             0   \n",
       "3                 42.03                NaN             0   \n",
       "4                 17.89                NaN             0   \n",
       "5                166.67                NaN             0   \n",
       "6                 62.68                NaN             0   \n",
       "\n",
       "   years_since_card_issuing  total_usage  remaining_bill_per_number_of_cards  \\\n",
       "0                  0.750000       1012.0                                0.00   \n",
       "1                 10.750000          0.0                                0.00   \n",
       "2                  1.666667    2666558.0                          2975932.50   \n",
       "3                 10.250000    3690250.0                          2306717.50   \n",
       "4                  4.666667     230400.0                          1657023.00   \n",
       "5                  0.750000    9327612.0                          1970267.25   \n",
       "6                  8.500000          0.0                           406946.50   \n",
       "\n",
       "   remaining_bill_per_limit  total_usage_per_limit  total_3mo_usage_per_limit  \\\n",
       "0                  0.000000               0.000101                   0.000000   \n",
       "1                  0.000000               0.000000                   0.040518   \n",
       "2                  0.595186               0.266656                   0.323027   \n",
       "3                  0.057668               0.046128                   0.017184   \n",
       "4                  0.828511               0.057600                   0.018750   \n",
       "5                  0.394053               0.466381                   0.239289   \n",
       "6                  0.232541               0.000000                   0.075000   \n",
       "\n",
       "   total_6mo_usage_per_limit  utilization_3month  utilization_6month  \n",
       "0                   0.000000            0.004232            0.000300  \n",
       "1                   0.047703            0.249389                 NaN  \n",
       "2                   0.131162            0.707865            0.336571  \n",
       "3                   0.117513            0.038964            0.181863  \n",
       "4                   0.166667            1.014776            0.977231  \n",
       "5                   0.241599            0.261753            0.224026  \n",
       "6                   0.094801            0.315145                 NaN  "
      ]
     },
     "execution_count": 2,
     "metadata": {},
     "output_type": "execute_result"
    }
   ],
   "source": [
    "#get datasets\n",
    "data = pd.read_csv('credit_ds_v3.csv')\n",
    "\n",
    "#get all columns for 7 first rows\n",
    "pd.set_option('display.max_columns', None)\n",
    "data.head(7)"
   ]
  },
  {
   "cell_type": "code",
   "execution_count": 3,
   "metadata": {},
   "outputs": [
    {
     "data": {
      "text/plain": [
       "(15645, 24)"
      ]
     },
     "execution_count": 3,
     "metadata": {},
     "output_type": "execute_result"
    }
   ],
   "source": [
    "data.shape"
   ]
  },
  {
   "cell_type": "code",
   "execution_count": 4,
   "metadata": {},
   "outputs": [
    {
     "data": {
      "text/plain": [
       "X                                        0\n",
       "number_of_cards                          0\n",
       "outstanding                              0\n",
       "credit_limit                             0\n",
       "bill                                     0\n",
       "total_cash_usage                        45\n",
       "total_retail_usage                       0\n",
       "remaining_bill                           0\n",
       "branch_code                            195\n",
       "payment_ratio                            0\n",
       "overlimit_percentage                    26\n",
       "payment_ratio_3month                     0\n",
       "payment_ratio_6month                     0\n",
       "delinquency_score                       88\n",
       "default_flag                             0\n",
       "years_since_card_issuing                 0\n",
       "total_usage                              0\n",
       "remaining_bill_per_number_of_cards       0\n",
       "remaining_bill_per_limit                 0\n",
       "total_usage_per_limit                    0\n",
       "total_3mo_usage_per_limit                0\n",
       "total_6mo_usage_per_limit                0\n",
       "utilization_3month                       0\n",
       "utilization_6month                    2842\n",
       "dtype: int64"
      ]
     },
     "execution_count": 4,
     "metadata": {},
     "output_type": "execute_result"
    }
   ],
   "source": [
    "data.isnull().sum()"
   ]
  },
  {
   "cell_type": "code",
   "execution_count": 5,
   "metadata": {},
   "outputs": [
    {
     "data": {
      "text/html": [
       "<div>\n",
       "<style scoped>\n",
       "    .dataframe tbody tr th:only-of-type {\n",
       "        vertical-align: middle;\n",
       "    }\n",
       "\n",
       "    .dataframe tbody tr th {\n",
       "        vertical-align: top;\n",
       "    }\n",
       "\n",
       "    .dataframe thead th {\n",
       "        text-align: right;\n",
       "    }\n",
       "</style>\n",
       "<table border=\"1\" class=\"dataframe\">\n",
       "  <thead>\n",
       "    <tr style=\"text-align: right;\">\n",
       "      <th></th>\n",
       "      <th>X</th>\n",
       "      <th>number_of_cards</th>\n",
       "      <th>outstanding</th>\n",
       "      <th>credit_limit</th>\n",
       "      <th>bill</th>\n",
       "      <th>total_cash_usage</th>\n",
       "      <th>total_retail_usage</th>\n",
       "      <th>remaining_bill</th>\n",
       "      <th>payment_ratio</th>\n",
       "      <th>overlimit_percentage</th>\n",
       "      <th>payment_ratio_3month</th>\n",
       "      <th>payment_ratio_6month</th>\n",
       "      <th>delinquency_score</th>\n",
       "      <th>default_flag</th>\n",
       "      <th>years_since_card_issuing</th>\n",
       "      <th>total_usage</th>\n",
       "      <th>remaining_bill_per_number_of_cards</th>\n",
       "      <th>remaining_bill_per_limit</th>\n",
       "      <th>total_usage_per_limit</th>\n",
       "      <th>total_3mo_usage_per_limit</th>\n",
       "      <th>total_6mo_usage_per_limit</th>\n",
       "      <th>utilization_3month</th>\n",
       "      <th>utilization_6month</th>\n",
       "    </tr>\n",
       "  </thead>\n",
       "  <tbody>\n",
       "    <tr>\n",
       "      <th>count</th>\n",
       "      <td>15645.000000</td>\n",
       "      <td>15645.000000</td>\n",
       "      <td>1.564500e+04</td>\n",
       "      <td>1.564500e+04</td>\n",
       "      <td>1.564500e+04</td>\n",
       "      <td>1.560000e+04</td>\n",
       "      <td>1.564500e+04</td>\n",
       "      <td>1.564500e+04</td>\n",
       "      <td>15645.000000</td>\n",
       "      <td>15619.000000</td>\n",
       "      <td>15645.000000</td>\n",
       "      <td>15645.000000</td>\n",
       "      <td>15557.000000</td>\n",
       "      <td>15645.000000</td>\n",
       "      <td>15645.000000</td>\n",
       "      <td>1.564500e+04</td>\n",
       "      <td>1.564500e+04</td>\n",
       "      <td>15645.000000</td>\n",
       "      <td>15645.000000</td>\n",
       "      <td>15645.000000</td>\n",
       "      <td>15645.000000</td>\n",
       "      <td>15645.000000</td>\n",
       "      <td>12803.000000</td>\n",
       "    </tr>\n",
       "    <tr>\n",
       "      <th>mean</th>\n",
       "      <td>7823.000000</td>\n",
       "      <td>2.506040</td>\n",
       "      <td>1.160622e+07</td>\n",
       "      <td>2.082010e+07</td>\n",
       "      <td>8.076442e+06</td>\n",
       "      <td>7.457618e+04</td>\n",
       "      <td>2.024806e+06</td>\n",
       "      <td>8.146804e+06</td>\n",
       "      <td>7.036890</td>\n",
       "      <td>3.330655</td>\n",
       "      <td>50.496321</td>\n",
       "      <td>81.544782</td>\n",
       "      <td>0.033747</td>\n",
       "      <td>0.090508</td>\n",
       "      <td>6.628854</td>\n",
       "      <td>2.099281e+06</td>\n",
       "      <td>2.970392e+06</td>\n",
       "      <td>0.467782</td>\n",
       "      <td>0.108977</td>\n",
       "      <td>0.167157</td>\n",
       "      <td>0.202454</td>\n",
       "      <td>0.570447</td>\n",
       "      <td>0.526346</td>\n",
       "    </tr>\n",
       "    <tr>\n",
       "      <th>std</th>\n",
       "      <td>4516.466816</td>\n",
       "      <td>1.012536</td>\n",
       "      <td>2.407941e+07</td>\n",
       "      <td>2.955419e+07</td>\n",
       "      <td>1.759983e+07</td>\n",
       "      <td>6.177873e+05</td>\n",
       "      <td>7.909345e+06</td>\n",
       "      <td>1.924667e+07</td>\n",
       "      <td>792.912029</td>\n",
       "      <td>9.215148</td>\n",
       "      <td>1320.816758</td>\n",
       "      <td>1460.736051</td>\n",
       "      <td>0.359216</td>\n",
       "      <td>0.286918</td>\n",
       "      <td>4.668085</td>\n",
       "      <td>8.073250e+06</td>\n",
       "      <td>6.270020e+06</td>\n",
       "      <td>0.473080</td>\n",
       "      <td>0.199740</td>\n",
       "      <td>0.192212</td>\n",
       "      <td>0.274421</td>\n",
       "      <td>0.411997</td>\n",
       "      <td>0.432190</td>\n",
       "    </tr>\n",
       "    <tr>\n",
       "      <th>min</th>\n",
       "      <td>1.000000</td>\n",
       "      <td>1.000000</td>\n",
       "      <td>0.000000e+00</td>\n",
       "      <td>3.000000e+06</td>\n",
       "      <td>2.004300e+04</td>\n",
       "      <td>0.000000e+00</td>\n",
       "      <td>-1.566720e+07</td>\n",
       "      <td>0.000000e+00</td>\n",
       "      <td>-49860.000000</td>\n",
       "      <td>0.000000</td>\n",
       "      <td>-57792.340000</td>\n",
       "      <td>-77056.000000</td>\n",
       "      <td>0.000000</td>\n",
       "      <td>0.000000</td>\n",
       "      <td>0.750000</td>\n",
       "      <td>-1.566720e+07</td>\n",
       "      <td>0.000000e+00</td>\n",
       "      <td>0.000000</td>\n",
       "      <td>-0.632000</td>\n",
       "      <td>-0.126000</td>\n",
       "      <td>-0.569000</td>\n",
       "      <td>0.000288</td>\n",
       "      <td>0.000000</td>\n",
       "    </tr>\n",
       "    <tr>\n",
       "      <th>25%</th>\n",
       "      <td>3912.000000</td>\n",
       "      <td>2.000000</td>\n",
       "      <td>1.992796e+06</td>\n",
       "      <td>5.000000e+06</td>\n",
       "      <td>8.139470e+05</td>\n",
       "      <td>0.000000e+00</td>\n",
       "      <td>0.000000e+00</td>\n",
       "      <td>0.000000e+00</td>\n",
       "      <td>-17.300000</td>\n",
       "      <td>0.000000</td>\n",
       "      <td>20.200000</td>\n",
       "      <td>21.500000</td>\n",
       "      <td>0.000000</td>\n",
       "      <td>0.000000</td>\n",
       "      <td>2.920000</td>\n",
       "      <td>0.000000e+00</td>\n",
       "      <td>0.000000e+00</td>\n",
       "      <td>0.000000</td>\n",
       "      <td>0.000000</td>\n",
       "      <td>0.034767</td>\n",
       "      <td>0.032600</td>\n",
       "      <td>0.189000</td>\n",
       "      <td>0.155000</td>\n",
       "    </tr>\n",
       "    <tr>\n",
       "      <th>50%</th>\n",
       "      <td>7823.000000</td>\n",
       "      <td>2.000000</td>\n",
       "      <td>4.718779e+06</td>\n",
       "      <td>9.000000e+06</td>\n",
       "      <td>3.141366e+06</td>\n",
       "      <td>0.000000e+00</td>\n",
       "      <td>2.000000e+05</td>\n",
       "      <td>2.747165e+06</td>\n",
       "      <td>0.000000</td>\n",
       "      <td>0.000000</td>\n",
       "      <td>50.000000</td>\n",
       "      <td>65.500000</td>\n",
       "      <td>0.000000</td>\n",
       "      <td>0.000000</td>\n",
       "      <td>5.666667</td>\n",
       "      <td>2.438000e+05</td>\n",
       "      <td>1.202134e+06</td>\n",
       "      <td>0.333000</td>\n",
       "      <td>0.021700</td>\n",
       "      <td>0.108000</td>\n",
       "      <td>0.117000</td>\n",
       "      <td>0.574000</td>\n",
       "      <td>0.480000</td>\n",
       "    </tr>\n",
       "    <tr>\n",
       "      <th>75%</th>\n",
       "      <td>11734.000000</td>\n",
       "      <td>3.000000</td>\n",
       "      <td>1.066531e+07</td>\n",
       "      <td>2.200000e+07</td>\n",
       "      <td>7.404069e+06</td>\n",
       "      <td>0.000000e+00</td>\n",
       "      <td>1.396204e+06</td>\n",
       "      <td>7.142464e+06</td>\n",
       "      <td>44.600000</td>\n",
       "      <td>1.010000</td>\n",
       "      <td>91.200000</td>\n",
       "      <td>100.000000</td>\n",
       "      <td>0.000000</td>\n",
       "      <td>0.000000</td>\n",
       "      <td>9.330000</td>\n",
       "      <td>1.507478e+06</td>\n",
       "      <td>3.087616e+06</td>\n",
       "      <td>0.929000</td>\n",
       "      <td>0.127143</td>\n",
       "      <td>0.239000</td>\n",
       "      <td>0.285000</td>\n",
       "      <td>0.916000</td>\n",
       "      <td>0.847594</td>\n",
       "    </tr>\n",
       "    <tr>\n",
       "      <th>max</th>\n",
       "      <td>15645.000000</td>\n",
       "      <td>16.000000</td>\n",
       "      <td>7.980586e+08</td>\n",
       "      <td>1.000000e+09</td>\n",
       "      <td>6.280000e+08</td>\n",
       "      <td>2.884057e+07</td>\n",
       "      <td>2.850000e+08</td>\n",
       "      <td>4.440000e+08</td>\n",
       "      <td>68983.000000</td>\n",
       "      <td>190.000000</td>\n",
       "      <td>75575.000000</td>\n",
       "      <td>54899.000000</td>\n",
       "      <td>5.000000</td>\n",
       "      <td>1.000000</td>\n",
       "      <td>34.416667</td>\n",
       "      <td>3.140000e+08</td>\n",
       "      <td>1.480000e+08</td>\n",
       "      <td>7.240000</td>\n",
       "      <td>4.600000</td>\n",
       "      <td>3.490000</td>\n",
       "      <td>8.110000</td>\n",
       "      <td>8.125671</td>\n",
       "      <td>9.730000</td>\n",
       "    </tr>\n",
       "  </tbody>\n",
       "</table>\n",
       "</div>"
      ],
      "text/plain": [
       "                  X  number_of_cards   outstanding  credit_limit  \\\n",
       "count  15645.000000     15645.000000  1.564500e+04  1.564500e+04   \n",
       "mean    7823.000000         2.506040  1.160622e+07  2.082010e+07   \n",
       "std     4516.466816         1.012536  2.407941e+07  2.955419e+07   \n",
       "min        1.000000         1.000000  0.000000e+00  3.000000e+06   \n",
       "25%     3912.000000         2.000000  1.992796e+06  5.000000e+06   \n",
       "50%     7823.000000         2.000000  4.718779e+06  9.000000e+06   \n",
       "75%    11734.000000         3.000000  1.066531e+07  2.200000e+07   \n",
       "max    15645.000000        16.000000  7.980586e+08  1.000000e+09   \n",
       "\n",
       "               bill  total_cash_usage  total_retail_usage  remaining_bill  \\\n",
       "count  1.564500e+04      1.560000e+04        1.564500e+04    1.564500e+04   \n",
       "mean   8.076442e+06      7.457618e+04        2.024806e+06    8.146804e+06   \n",
       "std    1.759983e+07      6.177873e+05        7.909345e+06    1.924667e+07   \n",
       "min    2.004300e+04      0.000000e+00       -1.566720e+07    0.000000e+00   \n",
       "25%    8.139470e+05      0.000000e+00        0.000000e+00    0.000000e+00   \n",
       "50%    3.141366e+06      0.000000e+00        2.000000e+05    2.747165e+06   \n",
       "75%    7.404069e+06      0.000000e+00        1.396204e+06    7.142464e+06   \n",
       "max    6.280000e+08      2.884057e+07        2.850000e+08    4.440000e+08   \n",
       "\n",
       "       payment_ratio  overlimit_percentage  payment_ratio_3month  \\\n",
       "count   15645.000000          15619.000000          15645.000000   \n",
       "mean        7.036890              3.330655             50.496321   \n",
       "std       792.912029              9.215148           1320.816758   \n",
       "min    -49860.000000              0.000000         -57792.340000   \n",
       "25%       -17.300000              0.000000             20.200000   \n",
       "50%         0.000000              0.000000             50.000000   \n",
       "75%        44.600000              1.010000             91.200000   \n",
       "max     68983.000000            190.000000          75575.000000   \n",
       "\n",
       "       payment_ratio_6month  delinquency_score  default_flag  \\\n",
       "count          15645.000000       15557.000000  15645.000000   \n",
       "mean              81.544782           0.033747      0.090508   \n",
       "std             1460.736051           0.359216      0.286918   \n",
       "min           -77056.000000           0.000000      0.000000   \n",
       "25%               21.500000           0.000000      0.000000   \n",
       "50%               65.500000           0.000000      0.000000   \n",
       "75%              100.000000           0.000000      0.000000   \n",
       "max            54899.000000           5.000000      1.000000   \n",
       "\n",
       "       years_since_card_issuing   total_usage  \\\n",
       "count              15645.000000  1.564500e+04   \n",
       "mean                   6.628854  2.099281e+06   \n",
       "std                    4.668085  8.073250e+06   \n",
       "min                    0.750000 -1.566720e+07   \n",
       "25%                    2.920000  0.000000e+00   \n",
       "50%                    5.666667  2.438000e+05   \n",
       "75%                    9.330000  1.507478e+06   \n",
       "max                   34.416667  3.140000e+08   \n",
       "\n",
       "       remaining_bill_per_number_of_cards  remaining_bill_per_limit  \\\n",
       "count                        1.564500e+04              15645.000000   \n",
       "mean                         2.970392e+06                  0.467782   \n",
       "std                          6.270020e+06                  0.473080   \n",
       "min                          0.000000e+00                  0.000000   \n",
       "25%                          0.000000e+00                  0.000000   \n",
       "50%                          1.202134e+06                  0.333000   \n",
       "75%                          3.087616e+06                  0.929000   \n",
       "max                          1.480000e+08                  7.240000   \n",
       "\n",
       "       total_usage_per_limit  total_3mo_usage_per_limit  \\\n",
       "count           15645.000000               15645.000000   \n",
       "mean                0.108977                   0.167157   \n",
       "std                 0.199740                   0.192212   \n",
       "min                -0.632000                  -0.126000   \n",
       "25%                 0.000000                   0.034767   \n",
       "50%                 0.021700                   0.108000   \n",
       "75%                 0.127143                   0.239000   \n",
       "max                 4.600000                   3.490000   \n",
       "\n",
       "       total_6mo_usage_per_limit  utilization_3month  utilization_6month  \n",
       "count               15645.000000        15645.000000        12803.000000  \n",
       "mean                    0.202454            0.570447            0.526346  \n",
       "std                     0.274421            0.411997            0.432190  \n",
       "min                    -0.569000            0.000288            0.000000  \n",
       "25%                     0.032600            0.189000            0.155000  \n",
       "50%                     0.117000            0.574000            0.480000  \n",
       "75%                     0.285000            0.916000            0.847594  \n",
       "max                     8.110000            8.125671            9.730000  "
      ]
     },
     "execution_count": 5,
     "metadata": {},
     "output_type": "execute_result"
    }
   ],
   "source": [
    "data.describe()"
   ]
  },
  {
   "cell_type": "markdown",
   "metadata": {},
   "source": [
    "### Data Explore"
   ]
  },
  {
   "cell_type": "code",
   "execution_count": 6,
   "metadata": {},
   "outputs": [
    {
     "name": "stdout",
     "output_type": "stream",
     "text": [
      "Count of data 15645\n"
     ]
    },
    {
     "data": {
      "text/html": [
       "<div>\n",
       "<style scoped>\n",
       "    .dataframe tbody tr th:only-of-type {\n",
       "        vertical-align: middle;\n",
       "    }\n",
       "\n",
       "    .dataframe tbody tr th {\n",
       "        vertical-align: top;\n",
       "    }\n",
       "\n",
       "    .dataframe thead th {\n",
       "        text-align: right;\n",
       "    }\n",
       "</style>\n",
       "<table border=\"1\" class=\"dataframe\">\n",
       "  <thead>\n",
       "    <tr style=\"text-align: right;\">\n",
       "      <th></th>\n",
       "      <th>Columns</th>\n",
       "      <th>Null</th>\n",
       "      <th>NullPct</th>\n",
       "      <th>Unique</th>\n",
       "    </tr>\n",
       "  </thead>\n",
       "  <tbody>\n",
       "    <tr>\n",
       "      <th>0</th>\n",
       "      <td>X</td>\n",
       "      <td>0</td>\n",
       "      <td>0.00</td>\n",
       "      <td>15645</td>\n",
       "    </tr>\n",
       "    <tr>\n",
       "      <th>1</th>\n",
       "      <td>number_of_cards</td>\n",
       "      <td>0</td>\n",
       "      <td>0.00</td>\n",
       "      <td>15</td>\n",
       "    </tr>\n",
       "    <tr>\n",
       "      <th>2</th>\n",
       "      <td>outstanding</td>\n",
       "      <td>0</td>\n",
       "      <td>0.00</td>\n",
       "      <td>10359</td>\n",
       "    </tr>\n",
       "    <tr>\n",
       "      <th>3</th>\n",
       "      <td>credit_limit</td>\n",
       "      <td>0</td>\n",
       "      <td>0.00</td>\n",
       "      <td>150</td>\n",
       "    </tr>\n",
       "    <tr>\n",
       "      <th>4</th>\n",
       "      <td>bill</td>\n",
       "      <td>0</td>\n",
       "      <td>0.00</td>\n",
       "      <td>10018</td>\n",
       "    </tr>\n",
       "    <tr>\n",
       "      <th>5</th>\n",
       "      <td>total_cash_usage</td>\n",
       "      <td>45</td>\n",
       "      <td>0.29</td>\n",
       "      <td>94</td>\n",
       "    </tr>\n",
       "    <tr>\n",
       "      <th>6</th>\n",
       "      <td>total_retail_usage</td>\n",
       "      <td>0</td>\n",
       "      <td>0.00</td>\n",
       "      <td>5714</td>\n",
       "    </tr>\n",
       "    <tr>\n",
       "      <th>7</th>\n",
       "      <td>remaining_bill</td>\n",
       "      <td>0</td>\n",
       "      <td>0.00</td>\n",
       "      <td>6947</td>\n",
       "    </tr>\n",
       "    <tr>\n",
       "      <th>8</th>\n",
       "      <td>branch_code</td>\n",
       "      <td>195</td>\n",
       "      <td>1.25</td>\n",
       "      <td>11</td>\n",
       "    </tr>\n",
       "    <tr>\n",
       "      <th>9</th>\n",
       "      <td>payment_ratio</td>\n",
       "      <td>0</td>\n",
       "      <td>0.00</td>\n",
       "      <td>2273</td>\n",
       "    </tr>\n",
       "    <tr>\n",
       "      <th>10</th>\n",
       "      <td>overlimit_percentage</td>\n",
       "      <td>26</td>\n",
       "      <td>0.17</td>\n",
       "      <td>1222</td>\n",
       "    </tr>\n",
       "    <tr>\n",
       "      <th>11</th>\n",
       "      <td>payment_ratio_3month</td>\n",
       "      <td>0</td>\n",
       "      <td>0.00</td>\n",
       "      <td>2574</td>\n",
       "    </tr>\n",
       "    <tr>\n",
       "      <th>12</th>\n",
       "      <td>payment_ratio_6month</td>\n",
       "      <td>0</td>\n",
       "      <td>0.00</td>\n",
       "      <td>2416</td>\n",
       "    </tr>\n",
       "    <tr>\n",
       "      <th>13</th>\n",
       "      <td>delinquency_score</td>\n",
       "      <td>88</td>\n",
       "      <td>0.56</td>\n",
       "      <td>6</td>\n",
       "    </tr>\n",
       "    <tr>\n",
       "      <th>14</th>\n",
       "      <td>default_flag</td>\n",
       "      <td>0</td>\n",
       "      <td>0.00</td>\n",
       "      <td>2</td>\n",
       "    </tr>\n",
       "    <tr>\n",
       "      <th>15</th>\n",
       "      <td>years_since_card_issuing</td>\n",
       "      <td>0</td>\n",
       "      <td>0.00</td>\n",
       "      <td>448</td>\n",
       "    </tr>\n",
       "    <tr>\n",
       "      <th>16</th>\n",
       "      <td>total_usage</td>\n",
       "      <td>0</td>\n",
       "      <td>0.00</td>\n",
       "      <td>5990</td>\n",
       "    </tr>\n",
       "    <tr>\n",
       "      <th>17</th>\n",
       "      <td>remaining_bill_per_number_of_cards</td>\n",
       "      <td>0</td>\n",
       "      <td>0.00</td>\n",
       "      <td>8524</td>\n",
       "    </tr>\n",
       "    <tr>\n",
       "      <th>18</th>\n",
       "      <td>remaining_bill_per_limit</td>\n",
       "      <td>0</td>\n",
       "      <td>0.00</td>\n",
       "      <td>3235</td>\n",
       "    </tr>\n",
       "    <tr>\n",
       "      <th>19</th>\n",
       "      <td>total_usage_per_limit</td>\n",
       "      <td>0</td>\n",
       "      <td>0.00</td>\n",
       "      <td>3634</td>\n",
       "    </tr>\n",
       "    <tr>\n",
       "      <th>20</th>\n",
       "      <td>total_3mo_usage_per_limit</td>\n",
       "      <td>0</td>\n",
       "      <td>0.00</td>\n",
       "      <td>4015</td>\n",
       "    </tr>\n",
       "    <tr>\n",
       "      <th>21</th>\n",
       "      <td>total_6mo_usage_per_limit</td>\n",
       "      <td>0</td>\n",
       "      <td>0.00</td>\n",
       "      <td>4049</td>\n",
       "    </tr>\n",
       "    <tr>\n",
       "      <th>22</th>\n",
       "      <td>utilization_3month</td>\n",
       "      <td>0</td>\n",
       "      <td>0.00</td>\n",
       "      <td>4094</td>\n",
       "    </tr>\n",
       "    <tr>\n",
       "      <th>23</th>\n",
       "      <td>utilization_6month</td>\n",
       "      <td>2842</td>\n",
       "      <td>18.17</td>\n",
       "      <td>3643</td>\n",
       "    </tr>\n",
       "  </tbody>\n",
       "</table>\n",
       "</div>"
      ],
      "text/plain": [
       "                               Columns  Null  NullPct  Unique\n",
       "0                                    X     0     0.00   15645\n",
       "1                      number_of_cards     0     0.00      15\n",
       "2                          outstanding     0     0.00   10359\n",
       "3                         credit_limit     0     0.00     150\n",
       "4                                 bill     0     0.00   10018\n",
       "5                     total_cash_usage    45     0.29      94\n",
       "6                   total_retail_usage     0     0.00    5714\n",
       "7                       remaining_bill     0     0.00    6947\n",
       "8                          branch_code   195     1.25      11\n",
       "9                        payment_ratio     0     0.00    2273\n",
       "10                overlimit_percentage    26     0.17    1222\n",
       "11                payment_ratio_3month     0     0.00    2574\n",
       "12                payment_ratio_6month     0     0.00    2416\n",
       "13                   delinquency_score    88     0.56       6\n",
       "14                        default_flag     0     0.00       2\n",
       "15            years_since_card_issuing     0     0.00     448\n",
       "16                         total_usage     0     0.00    5990\n",
       "17  remaining_bill_per_number_of_cards     0     0.00    8524\n",
       "18            remaining_bill_per_limit     0     0.00    3235\n",
       "19               total_usage_per_limit     0     0.00    3634\n",
       "20           total_3mo_usage_per_limit     0     0.00    4015\n",
       "21           total_6mo_usage_per_limit     0     0.00    4049\n",
       "22                  utilization_3month     0     0.00    4094\n",
       "23                  utilization_6month  2842    18.17    3643"
      ]
     },
     "execution_count": 6,
     "metadata": {},
     "output_type": "execute_result"
    }
   ],
   "source": [
    "def nullity(data):\n",
    "    print('Count of data {}'.format(data.shape[0]))\n",
    "    df_info = pd.DataFrame(columns=\n",
    "                          ['Columns', 'Null', 'NullPct', 'Unique'])\n",
    "    df_info['Columns'] = data.columns\n",
    "    df_info['Null'] = df_info['Columns'].apply(lambda x: sum(data[x].isna()))\n",
    "    df_info['NullPct'] = df_info['Null'].apply(lambda x: round(x/len(data)*100, 2))\n",
    "    df_info['Unique'] = df_info['Columns'].apply(lambda x: data[x].nunique())\n",
    "    return df_info\n",
    "    \n",
    "nullity(data)"
   ]
  },
  {
   "cell_type": "code",
   "execution_count": 7,
   "metadata": {},
   "outputs": [
    {
     "data": {
      "text/plain": [
       "X                                       int64\n",
       "number_of_cards                         int64\n",
       "outstanding                             int64\n",
       "credit_limit                          float64\n",
       "bill                                  float64\n",
       "total_cash_usage                      float64\n",
       "total_retail_usage                    float64\n",
       "remaining_bill                        float64\n",
       "branch_code                            object\n",
       "payment_ratio                         float64\n",
       "overlimit_percentage                  float64\n",
       "payment_ratio_3month                  float64\n",
       "payment_ratio_6month                  float64\n",
       "delinquency_score                     float64\n",
       "default_flag                            int64\n",
       "years_since_card_issuing              float64\n",
       "total_usage                           float64\n",
       "remaining_bill_per_number_of_cards    float64\n",
       "remaining_bill_per_limit              float64\n",
       "total_usage_per_limit                 float64\n",
       "total_3mo_usage_per_limit             float64\n",
       "total_6mo_usage_per_limit             float64\n",
       "utilization_3month                    float64\n",
       "utilization_6month                    float64\n",
       "dtype: object"
      ]
     },
     "execution_count": 7,
     "metadata": {},
     "output_type": "execute_result"
    }
   ],
   "source": [
    "data.dtypes"
   ]
  },
  {
   "cell_type": "code",
   "execution_count": 8,
   "metadata": {},
   "outputs": [
    {
     "data": {
      "text/plain": [
       "<function matplotlib.pyplot.show(close=None, block=None)>"
      ]
     },
     "execution_count": 8,
     "metadata": {},
     "output_type": "execute_result"
    },
    {
     "data": {
      "image/png": "[encoded data removed]",
      "text/plain": [
       "<Figure size 720x792 with 1 Axes>"
      ]
     },
     "metadata": {},
     "output_type": "display_data"
    }
   ],
   "source": [
    "null_data = data.isnull().sum().sort_values(ascending=False)\n",
    "plt.figure(figsize=(10,11), facecolor='crimson')\n",
    "null_data.plot(kind='bar')\n",
    "plt.title('Null Data')\n",
    "plt.show"
   ]
  },
  {
   "cell_type": "code",
   "execution_count": 9,
   "metadata": {},
   "outputs": [
    {
     "data": {
      "text/plain": [
       "0.0"
      ]
     },
     "execution_count": 9,
     "metadata": {},
     "output_type": "execute_result"
    }
   ],
   "source": [
    "data['total_cash_usage'].median()"
   ]
  },
  {
   "cell_type": "markdown",
   "metadata": {},
   "source": [
    "Missing Value"
   ]
  },
  {
   "cell_type": "code",
   "execution_count": 10,
   "metadata": {},
   "outputs": [
    {
     "data": {
      "text/plain": [
       "0"
      ]
     },
     "execution_count": 10,
     "metadata": {},
     "output_type": "execute_result"
    }
   ],
   "source": [
    "#input missing value in total_cash_usage with median\n",
    "data['total_cash_usage'].fillna(data['total_cash_usage'].median(), inplace=True)\n",
    "data['total_cash_usage'].isna().sum()"
   ]
  },
  {
   "cell_type": "code",
   "execution_count": 11,
   "metadata": {},
   "outputs": [
    {
     "data": {
      "text/plain": [
       "A    8705\n",
       "F    1697\n",
       "B    1351\n",
       "I     991\n",
       "E     649\n",
       "G     566\n",
       "J     410\n",
       "H     367\n",
       "C     334\n",
       "D     205\n",
       "K     175\n",
       "Name: branch_code, dtype: int64"
      ]
     },
     "execution_count": 11,
     "metadata": {},
     "output_type": "execute_result"
    }
   ],
   "source": [
    "data['branch_code'].value_counts()"
   ]
  },
  {
   "cell_type": "code",
   "execution_count": 12,
   "metadata": {},
   "outputs": [
    {
     "data": {
      "text/plain": [
       "0"
      ]
     },
     "execution_count": 12,
     "metadata": {},
     "output_type": "execute_result"
    }
   ],
   "source": [
    "#input missing value in branch_code with 'O'\n",
    "data['branch_code'].fillna('O', inplace=True)\n",
    "data['branch_code'].isna().sum()"
   ]
  },
  {
   "cell_type": "code",
   "execution_count": 13,
   "metadata": {},
   "outputs": [
    {
     "data": {
      "text/plain": [
       "0.0"
      ]
     },
     "execution_count": 13,
     "metadata": {},
     "output_type": "execute_result"
    }
   ],
   "source": [
    "data['overlimit_percentage'].median()"
   ]
  },
  {
   "cell_type": "code",
   "execution_count": 14,
   "metadata": {},
   "outputs": [
    {
     "data": {
      "text/plain": [
       "0"
      ]
     },
     "execution_count": 14,
     "metadata": {},
     "output_type": "execute_result"
    }
   ],
   "source": [
    "#input missing value in overlimit_percentage' with median\n",
    "data['overlimit_percentage'].fillna(data['overlimit_percentage'].median(), inplace=True)\n",
    "data['overlimit_percentage'].isna().sum()"
   ]
  },
  {
   "cell_type": "code",
   "execution_count": 15,
   "metadata": {},
   "outputs": [
    {
     "data": {
      "text/plain": [
       "0.0    15394\n",
       "5.0       42\n",
       "4.0       34\n",
       "3.0       34\n",
       "1.0       29\n",
       "2.0       24\n",
       "Name: delinquency_score, dtype: int64"
      ]
     },
     "execution_count": 15,
     "metadata": {},
     "output_type": "execute_result"
    }
   ],
   "source": [
    "data['delinquency_score'].value_counts()"
   ]
  },
  {
   "cell_type": "code",
   "execution_count": 16,
   "metadata": {},
   "outputs": [
    {
     "data": {
      "text/plain": [
       "0"
      ]
     },
     "execution_count": 16,
     "metadata": {},
     "output_type": "execute_result"
    }
   ],
   "source": [
    "#input missing value in 'delinquency_score' with mode\n",
    "data['delinquency_score'].fillna(0, inplace=True)\n",
    "data['delinquency_score'].isna().sum()"
   ]
  },
  {
   "cell_type": "code",
   "execution_count": 17,
   "metadata": {},
   "outputs": [
    {
     "data": {
      "text/plain": [
       "0.48"
      ]
     },
     "execution_count": 17,
     "metadata": {},
     "output_type": "execute_result"
    }
   ],
   "source": [
    "data['utilization_6month'].median()"
   ]
  },
  {
   "cell_type": "code",
   "execution_count": 18,
   "metadata": {},
   "outputs": [
    {
     "data": {
      "text/plain": [
       "0"
      ]
     },
     "execution_count": 18,
     "metadata": {},
     "output_type": "execute_result"
    }
   ],
   "source": [
    "#input missing value in 'utilization_6month' with median\n",
    "data['utilization_6month'].fillna(data['utilization_6month'].median(), inplace=True)\n",
    "data['utilization_6month'].isna().sum()"
   ]
  },
  {
   "cell_type": "code",
   "execution_count": 19,
   "metadata": {},
   "outputs": [
    {
     "data": {
      "text/plain": [
       "X                                     0\n",
       "number_of_cards                       0\n",
       "outstanding                           0\n",
       "credit_limit                          0\n",
       "bill                                  0\n",
       "total_cash_usage                      0\n",
       "total_retail_usage                    0\n",
       "remaining_bill                        0\n",
       "branch_code                           0\n",
       "payment_ratio                         0\n",
       "overlimit_percentage                  0\n",
       "payment_ratio_3month                  0\n",
       "payment_ratio_6month                  0\n",
       "delinquency_score                     0\n",
       "default_flag                          0\n",
       "years_since_card_issuing              0\n",
       "total_usage                           0\n",
       "remaining_bill_per_number_of_cards    0\n",
       "remaining_bill_per_limit              0\n",
       "total_usage_per_limit                 0\n",
       "total_3mo_usage_per_limit             0\n",
       "total_6mo_usage_per_limit             0\n",
       "utilization_3month                    0\n",
       "utilization_6month                    0\n",
       "dtype: int64"
      ]
     },
     "execution_count": 19,
     "metadata": {},
     "output_type": "execute_result"
    }
   ],
   "source": [
    "data.isna().sum()"
   ]
  },
  {
   "cell_type": "markdown",
   "metadata": {},
   "source": [
    "Analysis "
   ]
  },
  {
   "cell_type": "code",
   "execution_count": 20,
   "metadata": {},
   "outputs": [
    {
     "data": {
      "image/png": "[encoded data removed]",
      "text/plain": [
       "<Figure size 432x288 with 1 Axes>"
      ]
     },
     "metadata": {},
     "output_type": "display_data"
    }
   ],
   "source": [
    "#Finding outliers data in credit_limit\n",
    "\n",
    "sns.set_theme(style='whitegrid')\n",
    "ax = sns.boxplot(x = data['credit_limit'])"
   ]
  },
  {
   "cell_type": "code",
   "execution_count": 21,
   "metadata": {},
   "outputs": [],
   "source": [
    "#Exclude outlier data\n",
    "data = data[data['credit_limit'] < np.nanpercentile(data['credit_limit'], 99)]"
   ]
  },
  {
   "cell_type": "code",
   "execution_count": 22,
   "metadata": {},
   "outputs": [
    {
     "data": {
      "image/png": "[encoded data removed]",
      "text/plain": [
       "<Figure size 432x288 with 1 Axes>"
      ]
     },
     "metadata": {},
     "output_type": "display_data"
    }
   ],
   "source": [
    "#Recheck boxplot\n",
    "sns.set_theme(style='whitegrid')\n",
    "ax = sns.boxplot(x = data['credit_limit'])"
   ]
  },
  {
   "cell_type": "code",
   "execution_count": 23,
   "metadata": {},
   "outputs": [
    {
     "data": {
      "text/plain": [
       "<AxesSubplot:xlabel='total_usage'>"
      ]
     },
     "execution_count": 23,
     "metadata": {},
     "output_type": "execute_result"
    },
    {
     "data": {
      "image/png": "[encoded data removed]",
      "text/plain": [
       "<Figure size 432x288 with 1 Axes>"
      ]
     },
     "metadata": {},
     "output_type": "display_data"
    }
   ],
   "source": [
    "#Finding outliers\n",
    "sns.set_theme(style='whitegrid')\n",
    "sns.boxplot(x = data['total_usage'])"
   ]
  },
  {
   "cell_type": "code",
   "execution_count": 24,
   "metadata": {},
   "outputs": [],
   "source": [
    "#Exclude outliers\n",
    "data = data[(data['total_usage'] >= 0) & (data['total_usage'] < np.nanpercentile(data['total_usage'], 99))]"
   ]
  },
  {
   "cell_type": "code",
   "execution_count": 25,
   "metadata": {},
   "outputs": [
    {
     "data": {
      "text/plain": [
       "<AxesSubplot:xlabel='total_usage'>"
      ]
     },
     "execution_count": 25,
     "metadata": {},
     "output_type": "execute_result"
    },
    {
     "data": {
      "image/png": "[encoded data removed]",
      "text/plain": [
       "<Figure size 432x288 with 1 Axes>"
      ]
     },
     "metadata": {},
     "output_type": "display_data"
    }
   ],
   "source": [
    "#Recheck boxplot\n",
    "sns.set_theme(style='whitegrid')\n",
    "sns.boxplot(x = data['total_usage'])"
   ]
  },
  {
   "cell_type": "code",
   "execution_count": 26,
   "metadata": {},
   "outputs": [
    {
     "data": {
      "text/plain": [
       "<AxesSubplot:xlabel='branch_code', ylabel='credit_limit'>"
      ]
     },
     "execution_count": 26,
     "metadata": {},
     "output_type": "execute_result"
    },
    {
     "data": {
      "image/png": "[encoded data removed]",
      "text/plain": [
       "<Figure size 864x432 with 1 Axes>"
      ]
     },
     "metadata": {},
     "output_type": "display_data"
    }
   ],
   "source": [
    "#compare credit limit for each branch_code\n",
    "plt.figure(figsize=(12,6), facecolor='goldenrod')\n",
    "sns.barplot(x='branch_code', y='credit_limit', data=data)"
   ]
  },
  {
   "cell_type": "code",
   "execution_count": 27,
   "metadata": {},
   "outputs": [
    {
     "data": {
      "text/plain": [
       "<AxesSubplot:xlabel='credit_limit', ylabel='number_of_cards'>"
      ]
     },
     "execution_count": 27,
     "metadata": {},
     "output_type": "execute_result"
    },
    {
     "data": {
      "image/png": "[encoded data removed]",
      "text/plain": [
       "<Figure size 720x432 with 1 Axes>"
      ]
     },
     "metadata": {},
     "output_type": "display_data"
    }
   ],
   "source": [
    "#see correlation between credit_limit and number_of_cards\n",
    "plt.figure(figsize=(10,6), facecolor='goldenrod')\n",
    "sns.scatterplot(x='credit_limit', y='number_of_cards', data=data)"
   ]
  },
  {
   "cell_type": "code",
   "execution_count": 28,
   "metadata": {},
   "outputs": [
    {
     "data": {
      "text/plain": [
       "<AxesSubplot:xlabel='number_of_cards', ylabel='bill'>"
      ]
     },
     "execution_count": 28,
     "metadata": {},
     "output_type": "execute_result"
    },
    {
     "data": {
      "image/png": "[encoded data removed]",
      "text/plain": [
       "<Figure size 720x720 with 1 Axes>"
      ]
     },
     "metadata": {},
     "output_type": "display_data"
    }
   ],
   "source": [
    "#see correlation between number_of_cards and bill\n",
    "plt.figure(figsize=(10,10), facecolor='crimson')\n",
    "sns.barplot(x='number_of_cards', y='bill', data=data)"
   ]
  },
  {
   "cell_type": "code",
   "execution_count": 29,
   "metadata": {},
   "outputs": [
    {
     "data": {
      "text/plain": [
       "<AxesSubplot:xlabel='number_of_cards', ylabel='overlimit_percentage'>"
      ]
     },
     "execution_count": 29,
     "metadata": {},
     "output_type": "execute_result"
    },
    {
     "data": {
      "image/png": "[encoded data removed]",
      "text/plain": [
       "<Figure size 720x720 with 1 Axes>"
      ]
     },
     "metadata": {},
     "output_type": "display_data"
    }
   ],
   "source": [
    "#see correlation between number_of_cards and bill\n",
    "plt.figure(figsize=(10,10), facecolor='crimson')\n",
    "sns.barplot(x='number_of_cards', y='overlimit_percentage', data=data)"
   ]
  },
  {
   "cell_type": "code",
   "execution_count": 30,
   "metadata": {},
   "outputs": [],
   "source": [
    "data_t0 = data[data['default_flag'] == 0]\n",
    "data_t1 = data[data['default_flag'] == 1]"
   ]
  },
  {
   "cell_type": "code",
   "execution_count": 31,
   "metadata": {},
   "outputs": [
    {
     "name": "stdout",
     "output_type": "stream",
     "text": [
      "Max credit limit for flag 0: 112000000.0\n",
      "Max credit limit for flag 1: 110000000.0\n",
      "\n",
      "\n",
      "Min credit limit for flag 0: 3000000.0\n",
      "Min credit limit for flag 1: 3000000.0\n",
      "\n",
      "\n"
     ]
    }
   ],
   "source": [
    "#compare min_max credit limit between each flag\n",
    "print('Max credit limit for flag 0: {}'.format(data_t0['credit_limit'].max()))\n",
    "print('Max credit limit for flag 1: {}\\n\\n'.format(data_t1['credit_limit'].max()))\n",
    "\n",
    "print('Min credit limit for flag 0: {}'.format(data_t0['credit_limit'].min()))\n",
    "print('Min credit limit for flag 1: {}\\n\\n'.format(data_t1['credit_limit'].min()))"
   ]
  },
  {
   "cell_type": "code",
   "execution_count": 32,
   "metadata": {},
   "outputs": [
    {
     "data": {
      "text/html": [
       "<div>\n",
       "<style scoped>\n",
       "    .dataframe tbody tr th:only-of-type {\n",
       "        vertical-align: middle;\n",
       "    }\n",
       "\n",
       "    .dataframe tbody tr th {\n",
       "        vertical-align: top;\n",
       "    }\n",
       "\n",
       "    .dataframe thead th {\n",
       "        text-align: right;\n",
       "    }\n",
       "</style>\n",
       "<table border=\"1\" class=\"dataframe\">\n",
       "  <thead>\n",
       "    <tr style=\"text-align: right;\">\n",
       "      <th></th>\n",
       "      <th>delScore</th>\n",
       "      <th>delinquency_score</th>\n",
       "    </tr>\n",
       "  </thead>\n",
       "  <tbody>\n",
       "    <tr>\n",
       "      <th>0</th>\n",
       "      <td>0.0</td>\n",
       "      <td>13880</td>\n",
       "    </tr>\n",
       "    <tr>\n",
       "      <th>1</th>\n",
       "      <td>1.0</td>\n",
       "      <td>22</td>\n",
       "    </tr>\n",
       "    <tr>\n",
       "      <th>2</th>\n",
       "      <td>2.0</td>\n",
       "      <td>3</td>\n",
       "    </tr>\n",
       "    <tr>\n",
       "      <th>3</th>\n",
       "      <td>3.0</td>\n",
       "      <td>2</td>\n",
       "    </tr>\n",
       "  </tbody>\n",
       "</table>\n",
       "</div>"
      ],
      "text/plain": [
       "   delScore  delinquency_score\n",
       "0       0.0              13880\n",
       "1       1.0                 22\n",
       "2       2.0                  3\n",
       "3       3.0                  2"
      ]
     },
     "execution_count": 32,
     "metadata": {},
     "output_type": "execute_result"
    }
   ],
   "source": [
    "#count per delinquency_score\n",
    "del0 = pd.DataFrame(data_t0['delinquency_score'].value_counts().reset_index().rename(columns={'index':'delScore'}))\n",
    "del0"
   ]
  },
  {
   "cell_type": "code",
   "execution_count": 33,
   "metadata": {},
   "outputs": [
    {
     "data": {
      "text/html": [
       "<div>\n",
       "<style scoped>\n",
       "    .dataframe tbody tr th:only-of-type {\n",
       "        vertical-align: middle;\n",
       "    }\n",
       "\n",
       "    .dataframe tbody tr th {\n",
       "        vertical-align: top;\n",
       "    }\n",
       "\n",
       "    .dataframe thead th {\n",
       "        text-align: right;\n",
       "    }\n",
       "</style>\n",
       "<table border=\"1\" class=\"dataframe\">\n",
       "  <thead>\n",
       "    <tr style=\"text-align: right;\">\n",
       "      <th></th>\n",
       "      <th>delScore</th>\n",
       "      <th>delinquency_score</th>\n",
       "    </tr>\n",
       "  </thead>\n",
       "  <tbody>\n",
       "    <tr>\n",
       "      <th>0</th>\n",
       "      <td>0.0</td>\n",
       "      <td>1250</td>\n",
       "    </tr>\n",
       "    <tr>\n",
       "      <th>1</th>\n",
       "      <td>5.0</td>\n",
       "      <td>41</td>\n",
       "    </tr>\n",
       "    <tr>\n",
       "      <th>2</th>\n",
       "      <td>4.0</td>\n",
       "      <td>34</td>\n",
       "    </tr>\n",
       "    <tr>\n",
       "      <th>3</th>\n",
       "      <td>3.0</td>\n",
       "      <td>31</td>\n",
       "    </tr>\n",
       "    <tr>\n",
       "      <th>4</th>\n",
       "      <td>2.0</td>\n",
       "      <td>21</td>\n",
       "    </tr>\n",
       "    <tr>\n",
       "      <th>5</th>\n",
       "      <td>1.0</td>\n",
       "      <td>7</td>\n",
       "    </tr>\n",
       "  </tbody>\n",
       "</table>\n",
       "</div>"
      ],
      "text/plain": [
       "   delScore  delinquency_score\n",
       "0       0.0               1250\n",
       "1       5.0                 41\n",
       "2       4.0                 34\n",
       "3       3.0                 31\n",
       "4       2.0                 21\n",
       "5       1.0                  7"
      ]
     },
     "execution_count": 33,
     "metadata": {},
     "output_type": "execute_result"
    }
   ],
   "source": [
    "del1 = pd.DataFrame(data_t1['delinquency_score'].value_counts().reset_index().rename(columns={'index':'delScore'}))\n",
    "del1"
   ]
  },
  {
   "cell_type": "markdown",
   "metadata": {},
   "source": [
    "Checking Imbalance"
   ]
  },
  {
   "cell_type": "code",
   "execution_count": 34,
   "metadata": {},
   "outputs": [
    {
     "name": "stdout",
     "output_type": "stream",
     "text": [
      "Non default flag: 90.95%\n",
      "Default flag: 9.05%\n"
     ]
    },
    {
     "data": {
      "image/png": "[encoded data removed]",
      "text/plain": [
       "<Figure size 720x720 with 1 Axes>"
      ]
     },
     "metadata": {},
     "output_type": "display_data"
    }
   ],
   "source": [
    "plt.figure(figsize=(10,10), facecolor='crimson')\n",
    "sns.countplot(x='default_flag', data=data, palette = 'CMRmap')\n",
    "\n",
    "print('Non default flag: {}%'.format(round(data['default_flag'].value_counts()[0] / len(data) * 100.0,2)))\n",
    "print('Default flag: {}%'.format(round( data['default_flag'].value_counts()[1] / len(data) * 100, 2 )))"
   ]
  },
  {
   "cell_type": "markdown",
   "metadata": {},
   "source": [
    "## Modelling "
   ]
  },
  {
   "cell_type": "markdown",
   "metadata": {},
   "source": [
    "###### Data Imbalance "
   ]
  },
  {
   "cell_type": "markdown",
   "metadata": {},
   "source": [
    "#####  Mean Encoder"
   ]
  },
  {
   "cell_type": "code",
   "execution_count": 35,
   "metadata": {},
   "outputs": [],
   "source": [
    "from sklearn.model_selection import train_test_split\n",
    "\n",
    "x_train_im, x_test_im, y_train_im, y_test_im = train_test_split(\n",
    "    data.drop('default_flag', axis=1), #predictors\n",
    "    data['default_flag'], #target\n",
    "    test_size=0.2,\n",
    "    random_state=0)"
   ]
  },
  {
   "cell_type": "code",
   "execution_count": 36,
   "metadata": {},
   "outputs": [
    {
     "data": {
      "text/plain": [
       "MeanEncoder(variables=['branch_code'])"
      ]
     },
     "execution_count": 36,
     "metadata": {},
     "output_type": "execute_result"
    }
   ],
   "source": [
    "#Since Branch_Code value is object, we have to transform into numerical value.\n",
    "from feature_engine.encoding import MeanEncoder\n",
    "\n",
    "mean_enc_im = MeanEncoder(variables=['branch_code'])\n",
    "mean_enc_im.fit(x_train_im, y_train_im)"
   ]
  },
  {
   "cell_type": "code",
   "execution_count": 37,
   "metadata": {},
   "outputs": [
    {
     "data": {
      "text/plain": [
       "['branch_code']"
      ]
     },
     "execution_count": 37,
     "metadata": {},
     "output_type": "execute_result"
    }
   ],
   "source": [
    "mean_enc_im.variables"
   ]
  },
  {
   "cell_type": "code",
   "execution_count": 38,
   "metadata": {},
   "outputs": [
    {
     "data": {
      "text/plain": [
       "{'branch_code': {'A': 0.08787165145716809,\n",
       "  'B': 0.10506208213944604,\n",
       "  'C': 0.08461538461538462,\n",
       "  'D': 0.06060606060606061,\n",
       "  'E': 0.16110019646365423,\n",
       "  'F': 0.08320839580209895,\n",
       "  'G': 0.04918032786885246,\n",
       "  'H': 0.09491525423728814,\n",
       "  'I': 0.10755441741357234,\n",
       "  'J': 0.0875,\n",
       "  'K': 0.07462686567164178,\n",
       "  'O': 0.024096385542168676}}"
      ]
     },
     "execution_count": 38,
     "metadata": {},
     "output_type": "execute_result"
    }
   ],
   "source": [
    "mean_enc_im.encoder_dict_"
   ]
  },
  {
   "cell_type": "code",
   "execution_count": 39,
   "metadata": {},
   "outputs": [],
   "source": [
    "#Then transform into the data train and data test\n",
    "x_train_enc_im = mean_enc_im.transform(x_train_im)\n",
    "x_test_enc_im = mean_enc_im.transform(x_test_im)"
   ]
  },
  {
   "cell_type": "markdown",
   "metadata": {},
   "source": [
    "####  Logistic Regression"
   ]
  },
  {
   "cell_type": "code",
   "execution_count": 40,
   "metadata": {},
   "outputs": [
    {
     "name": "stdout",
     "output_type": "stream",
     "text": [
      "              precision    recall  f1-score   support\n",
      "\n",
      " Non-default       0.91      0.99      0.95      2782\n",
      "     Default       0.39      0.03      0.06       277\n",
      "\n",
      "    accuracy                           0.91      3059\n",
      "   macro avg       0.65      0.51      0.51      3059\n",
      "weighted avg       0.86      0.91      0.87      3059\n",
      "\n"
     ]
    },
    {
     "data": {
      "image/png": "[encoded data removed]",
      "text/plain": [
       "<Figure size 576x576 with 2 Axes>"
      ]
     },
     "metadata": {},
     "output_type": "display_data"
    }
   ],
   "source": [
    "from sklearn.linear_model import LogisticRegression\n",
    "from sklearn.metrics import confusion_matrix, precision_recall_curve, classification_report, precision_score, recall_score, accuracy_score\n",
    "logreg = LogisticRegression()\n",
    "logreg.fit(x_train_enc_im, y_train_im)\n",
    "y_pred_im = logreg.predict(x_test_enc_im)\n",
    "cnf_matrix = confusion_matrix(y_test_im, y_pred_im)\n",
    "\n",
    "plt.figure(figsize=(8,8), facecolor='crimson')\n",
    "sns.heatmap(pd.DataFrame(cnf_matrix), annot=True, cmap=\"YlGnBu\", fmt='g')\n",
    "plt.ylabel('Actual Label')\n",
    "plt.xlabel('Predicted Label')\n",
    "\n",
    "labels = ['Non-default', 'Default']\n",
    "print(classification_report(y_test_im, y_pred_im, target_names=labels))"
   ]
  },
  {
   "cell_type": "markdown",
   "metadata": {},
   "source": [
    "##### ROC AUC "
   ]
  },
  {
   "cell_type": "code",
   "execution_count": 41,
   "metadata": {},
   "outputs": [
    {
     "data": {
      "text/plain": [
       "0.5137293119512493"
      ]
     },
     "execution_count": 41,
     "metadata": {},
     "output_type": "execute_result"
    }
   ],
   "source": [
    "from sklearn.metrics import roc_curve, auc\n",
    "false_positive_rate, true_positive_rate, thresholds = roc_curve(y_test_im, y_pred_im)\n",
    "roc_auc = auc(false_positive_rate, true_positive_rate)\n",
    "roc_auc"
   ]
  },
  {
   "cell_type": "code",
   "execution_count": 42,
   "metadata": {},
   "outputs": [
    {
     "data": {
      "text/plain": [
       "Text(0, 0.5, 'True Positive Rate')"
      ]
     },
     "execution_count": 42,
     "metadata": {},
     "output_type": "execute_result"
    },
    {
     "data": {
      "image/png": "[encoded data removed]",
      "text/plain": [
       "<Figure size 720x720 with 1 Axes>"
      ]
     },
     "metadata": {},
     "output_type": "display_data"
    }
   ],
   "source": [
    "plt.figure(figsize = (10,10), facecolor = 'yellow')\n",
    "plt.title('ROC AUC')\n",
    "plt.plot(false_positive_rate, true_positive_rate, color = 'red', label = 'AUC = {}'.format(roc_auc))\n",
    "plt.legend(loc = 'lower right')\n",
    "plt.xlabel('False Positive Rate')\n",
    "plt.ylabel('True Positive Rate')"
   ]
  },
  {
   "cell_type": "markdown",
   "metadata": {},
   "source": [
    "#### Random Forest "
   ]
  },
  {
   "cell_type": "code",
   "execution_count": 43,
   "metadata": {},
   "outputs": [
    {
     "name": "stdout",
     "output_type": "stream",
     "text": [
      "              precision    recall  f1-score   support\n",
      "\n",
      " Non-default       0.92      0.99      0.96      2782\n",
      "     Default       0.74      0.18      0.29       277\n",
      "\n",
      "    accuracy                           0.92      3059\n",
      "   macro avg       0.83      0.59      0.62      3059\n",
      "weighted avg       0.91      0.92      0.90      3059\n",
      "\n"
     ]
    },
    {
     "data": {
      "image/png": "[encoded data removed]",
      "text/plain": [
       "<Figure size 576x576 with 2 Axes>"
      ]
     },
     "metadata": {},
     "output_type": "display_data"
    }
   ],
   "source": [
    "from sklearn.ensemble import RandomForestClassifier\n",
    "\n",
    "rf = RandomForestClassifier()\n",
    "rf.fit(x_train_enc_im, y_train_im)\n",
    "y_pred_im = rf.predict(x_test_enc_im)\n",
    "cnf_matrix = confusion_matrix(y_test_im, y_pred_im)\n",
    "\n",
    "plt.figure(figsize=(8,8), facecolor='crimson')\n",
    "sns.heatmap(pd.DataFrame(cnf_matrix), annot=True, cmap=\"YlGnBu\", fmt='g')\n",
    "plt.ylabel('Actual Label')\n",
    "plt.xlabel('Predicted Label')\n",
    "\n",
    "labels = ['Non-default', 'Default']\n",
    "print(classification_report(y_test_im, y_pred_im, target_names=labels))"
   ]
  },
  {
   "cell_type": "markdown",
   "metadata": {},
   "source": [
    "#####  ROC AUC"
   ]
  },
  {
   "cell_type": "code",
   "execution_count": 44,
   "metadata": {},
   "outputs": [
    {
     "data": {
      "text/plain": [
       "0.5853922975705088"
      ]
     },
     "execution_count": 44,
     "metadata": {},
     "output_type": "execute_result"
    }
   ],
   "source": [
    "from sklearn.metrics import roc_curve, auc\n",
    "false_positive_rate, true_positive_rate, thresholds = roc_curve(y_test_im, y_pred_im)\n",
    "roc_auc = auc(false_positive_rate, true_positive_rate)\n",
    "roc_auc"
   ]
  },
  {
   "cell_type": "code",
   "execution_count": 45,
   "metadata": {},
   "outputs": [
    {
     "data": {
      "text/plain": [
       "Text(0, 0.5, 'True Positive Rate')"
      ]
     },
     "execution_count": 45,
     "metadata": {},
     "output_type": "execute_result"
    },
    {
     "data": {
      "image/png": "[encoded data removed]",
      "text/plain": [
       "<Figure size 720x720 with 1 Axes>"
      ]
     },
     "metadata": {},
     "output_type": "display_data"
    }
   ],
   "source": [
    "plt.figure(figsize = (10,10), facecolor = 'yellow')\n",
    "plt.title('ROC AUC')\n",
    "plt.plot(false_positive_rate, true_positive_rate, color = 'red', label = 'AUC = {}'.format(roc_auc))\n",
    "plt.legend(loc = 'lower right')\n",
    "plt.xlabel('False Positive Rate')\n",
    "plt.ylabel('True Positive Rate')"
   ]
  },
  {
   "cell_type": "markdown",
   "metadata": {},
   "source": [
    "###### Data Balance "
   ]
  },
  {
   "cell_type": "markdown",
   "metadata": {},
   "source": [
    "Since the data is imbalance, we can adding more copies to minority data using oversampling method"
   ]
  },
  {
   "cell_type": "code",
   "execution_count": 46,
   "metadata": {},
   "outputs": [
    {
     "name": "stdout",
     "output_type": "stream",
     "text": [
      "flag 0: (13907, 24)\n",
      "flag 1: (1384, 24)\n"
     ]
    }
   ],
   "source": [
    "flag_count_0, flag_count_1 = data['default_flag'].value_counts()\n",
    "\n",
    "# Separate class\n",
    "data_t0 = data[data['default_flag'] == 0]\n",
    "data_t1 = data[data['default_flag'] == 1]# print the shape of the class\n",
    "print('flag 0:', data_t0.shape)\n",
    "print('flag 1:', data_t1.shape)"
   ]
  },
  {
   "cell_type": "code",
   "execution_count": 47,
   "metadata": {},
   "outputs": [
    {
     "name": "stdout",
     "output_type": "stream",
     "text": [
      "total class of 1 and 0:\n",
      " 1    13907\n",
      "0    13907\n",
      "Name: default_flag, dtype: int64\n"
     ]
    },
    {
     "data": {
      "text/plain": [
       "<AxesSubplot:title={'center':'count (target)'}>"
      ]
     },
     "execution_count": 47,
     "metadata": {},
     "output_type": "execute_result"
    },
    {
     "data": {
      "image/png": "[encoded data removed]",
      "text/plain": [
       "<Figure size 432x288 with 1 Axes>"
      ]
     },
     "metadata": {},
     "output_type": "display_data"
    }
   ],
   "source": [
    "flag_1_over = data_t1.sample(flag_count_0, replace=True)\n",
    "\n",
    "data_over = pd.concat([flag_1_over, data_t0], axis=0)\n",
    "\n",
    "print(\"total class of 1 and 0:\\n\",data_over['default_flag'].value_counts())# plot the count after under-sampeling\n",
    "data_over['default_flag'].value_counts().plot(kind='bar', title='count (target)')"
   ]
  },
  {
   "cell_type": "markdown",
   "metadata": {},
   "source": [
    "#####  Mean Encoder"
   ]
  },
  {
   "cell_type": "code",
   "execution_count": 48,
   "metadata": {},
   "outputs": [],
   "source": [
    "x_train_bal, x_test_bal, y_train_bal, y_test_bal = train_test_split(\n",
    "    data_over.drop('default_flag', axis=1), #predictors\n",
    "    data_over['default_flag'], #target\n",
    "    test_size=0.2,\n",
    "    random_state=0)\n",
    "\n",
    "mean_enc_bal = MeanEncoder(variables=['branch_code'])\n",
    "mean_enc_bal.fit(x_train_bal, y_train_bal)\n",
    "\n",
    "#Then transform into the data train and data test\n",
    "x_train_enc_bal = mean_enc_bal.transform(x_train_bal)\n",
    "x_test_enc_bal = mean_enc_bal.transform(x_test_bal)"
   ]
  },
  {
   "cell_type": "markdown",
   "metadata": {},
   "source": [
    "#### Logistic Regression "
   ]
  },
  {
   "cell_type": "code",
   "execution_count": 49,
   "metadata": {},
   "outputs": [
    {
     "name": "stdout",
     "output_type": "stream",
     "text": [
      "              precision    recall  f1-score   support\n",
      "\n",
      " Non-default       0.66      0.58      0.62      2804\n",
      "     Default       0.62      0.70      0.66      2759\n",
      "\n",
      "    accuracy                           0.64      5563\n",
      "   macro avg       0.64      0.64      0.64      5563\n",
      "weighted avg       0.64      0.64      0.64      5563\n",
      "\n"
     ]
    },
    {
     "data": {
      "image/png": "[encoded data removed]",
      "text/plain": [
       "<Figure size 576x576 with 2 Axes>"
      ]
     },
     "metadata": {},
     "output_type": "display_data"
    }
   ],
   "source": [
    "logreg = LogisticRegression()\n",
    "logreg.fit(x_train_enc_bal, y_train_bal)\n",
    "y_pred_bal = logreg.predict(x_test_enc_bal)\n",
    "cnf_matrix = confusion_matrix(y_test_bal, y_pred_bal)\n",
    "\n",
    "plt.figure(figsize=(8,8), facecolor='crimson')\n",
    "sns.heatmap(pd.DataFrame(cnf_matrix), annot=True, cmap=\"YlGnBu\", fmt='g')\n",
    "plt.ylabel('Actual Label')\n",
    "plt.xlabel('Predicted Label')\n",
    "\n",
    "labels = ['Non-default', 'Default']\n",
    "print(classification_report(y_test_bal, y_pred_bal, target_names=labels))"
   ]
  },
  {
   "cell_type": "markdown",
   "metadata": {},
   "source": [
    "#####  ROC AUC"
   ]
  },
  {
   "cell_type": "code",
   "execution_count": 50,
   "metadata": {},
   "outputs": [
    {
     "data": {
      "text/plain": [
       "0.6418587799027847"
      ]
     },
     "execution_count": 50,
     "metadata": {},
     "output_type": "execute_result"
    }
   ],
   "source": [
    "false_positive_rate, true_positive_rate, thresholds = roc_curve(y_test_bal, y_pred_bal)\n",
    "roc_auc = auc(false_positive_rate, true_positive_rate)\n",
    "roc_auc"
   ]
  },
  {
   "cell_type": "code",
   "execution_count": 51,
   "metadata": {},
   "outputs": [
    {
     "data": {
      "text/plain": [
       "Text(0, 0.5, 'True Positive Rate')"
      ]
     },
     "execution_count": 51,
     "metadata": {},
     "output_type": "execute_result"
    },
    {
     "data": {
      "image/png": "[encoded data removed]",
      "text/plain": [
       "<Figure size 720x720 with 1 Axes>"
      ]
     },
     "metadata": {},
     "output_type": "display_data"
    }
   ],
   "source": [
    "plt.figure(figsize = (10,10), facecolor = 'yellow')\n",
    "plt.title('ROC AUC')\n",
    "plt.plot(false_positive_rate, true_positive_rate, color = 'red', label = 'AUC = {}'.format(roc_auc))\n",
    "plt.legend(loc = 'lower right')\n",
    "plt.xlabel('False Positive Rate')\n",
    "plt.ylabel('True Positive Rate')"
   ]
  },
  {
   "cell_type": "markdown",
   "metadata": {},
   "source": [
    "#####  Random Forest"
   ]
  },
  {
   "cell_type": "code",
   "execution_count": 52,
   "metadata": {},
   "outputs": [
    {
     "name": "stdout",
     "output_type": "stream",
     "text": [
      "              precision    recall  f1-score   support\n",
      "\n",
      " Non-default       1.00      0.98      0.99      2804\n",
      "     Default       0.98      1.00      0.99      2759\n",
      "\n",
      "    accuracy                           0.99      5563\n",
      "   macro avg       0.99      0.99      0.99      5563\n",
      "weighted avg       0.99      0.99      0.99      5563\n",
      "\n"
     ]
    },
    {
     "data": {
      "image/png": "[encoded data removed]",
      "text/plain": [
       "<Figure size 576x576 with 2 Axes>"
      ]
     },
     "metadata": {},
     "output_type": "display_data"
    }
   ],
   "source": [
    "# from sklearn.ensemble import RandomForestClassifier\n",
    "\n",
    "rf = RandomForestClassifier()\n",
    "rf.fit(x_train_enc_bal, y_train_bal)\n",
    "y_pred_bal = rf.predict(x_test_enc_bal)\n",
    "cnf_matrix = confusion_matrix(y_test_bal, y_pred_bal)\n",
    "\n",
    "plt.figure(figsize=(8,8), facecolor='crimson')\n",
    "sns.heatmap(pd.DataFrame(cnf_matrix), annot=True, cmap=\"YlGnBu\", fmt='g')\n",
    "plt.ylabel('Actual Label')\n",
    "plt.xlabel('Predicted Label')\n",
    "\n",
    "labels = ['Non-default', 'Default']\n",
    "print(classification_report(y_test_bal, y_pred_bal, target_names=labels))"
   ]
  },
  {
   "cell_type": "markdown",
   "metadata": {},
   "source": [
    "#####  ROC AUC"
   ]
  },
  {
   "cell_type": "code",
   "execution_count": 53,
   "metadata": {},
   "outputs": [
    {
     "data": {
      "text/plain": [
       "0.988944365192582"
      ]
     },
     "execution_count": 53,
     "metadata": {},
     "output_type": "execute_result"
    }
   ],
   "source": [
    "false_positive_rate, true_positive_rate, thresholds = roc_curve(y_test_bal, y_pred_bal)\n",
    "roc_auc = auc(false_positive_rate, true_positive_rate)\n",
    "roc_auc"
   ]
  },
  {
   "cell_type": "code",
   "execution_count": 54,
   "metadata": {},
   "outputs": [
    {
     "data": {
      "text/plain": [
       "Text(0, 0.5, 'True Positive Rate')"
      ]
     },
     "execution_count": 54,
     "metadata": {},
     "output_type": "execute_result"
    },
    {
     "data": {
      "image/png": "[encoded data removed]",
      "text/plain": [
       "<Figure size 720x720 with 1 Axes>"
      ]
     },
     "metadata": {},
     "output_type": "display_data"
    }
   ],
   "source": [
    "plt.figure(figsize = (10,10), facecolor = 'yellow')\n",
    "plt.title('ROC AUC')\n",
    "plt.plot(false_positive_rate, true_positive_rate, color = 'red', label = 'AUC = {}'.format(roc_auc))\n",
    "plt.legend(loc = 'lower right')\n",
    "plt.xlabel('False Positive Rate')\n",
    "plt.ylabel('True Positive Rate')"
   ]
  }
 ],
 "metadata": {
  "kernelspec": {
   "display_name": "Python 3",
   "language": "python",
   "name": "python3"
  },
  "language_info": {
   "codemirror_mode": {
    "name": "ipython",
    "version": 3
   },
   "file_extension": ".py",
   "mimetype": "text/x-python",
   "name": "python",
   "nbconvert_exporter": "python",
   "pygments_lexer": "ipython3",
   "version": "3.8.5"
  }
 },
 "nbformat": 4,
 "nbformat_minor": 4
}
